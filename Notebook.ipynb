{
  "cells": [
    {
      "cell_type": "markdown",
      "metadata": {
        "id": "H9wADwK78DCz"
      },
      "source": [
        "# Proyek Analisis Data: [Bike Sharing Dataset]\n",
        "- **Nama:** Akrom Muhamad\n",
        "- **Email:** \tA703YBF043@devacademy.id\n",
        "- **ID Dicoding:** A703YBF043"
      ]
    },
    {
      "cell_type": "markdown",
      "metadata": {
        "id": "eE0raob58DC0"
      },
      "source": [
        "## Menentukan Pertanyaan Bisnis"
      ]
    },
    {
      "cell_type": "markdown",
      "metadata": {
        "id": "GmQeQ5YF8DC0"
      },
      "source": [
        "- Bagaimana tren jumlah penyewaan sepeda per bulan?\n",
        "- Apakah ada hubungan antara cuaca dengan jumlah penyewaan sepeda?\n",
        "- Bagaimana perbedaan penyewaan sepeda antara hari kerja dan akhir pekan?"
      ]
    },
    {
      "cell_type": "markdown",
      "metadata": {
        "id": "H-z4QGlO8DC1"
      },
      "source": [
        "## Import Semua Packages/Library yang Digunakan"
      ]
    },
    {
      "cell_type": "code",
      "execution_count": null,
      "metadata": {
        "id": "FVYwaObI8DC1"
      },
      "outputs": [],
      "source": [
        "import pandas as pd\n",
        "import numpy as np\n",
        "import matplotlib.pyplot as plt\n",
        "import seaborn as sns"
      ]
    },
    {
      "cell_type": "markdown",
      "metadata": {
        "id": "h_Sh51Xy8DC1"
      },
      "source": [
        "## Data Wrangling"
      ]
    },
    {
      "cell_type": "markdown",
      "metadata": {
        "id": "sXU2GBYu8DC1"
      },
      "source": [
        "### Gathering Data"
      ]
    },
    {
      "cell_type": "code",
      "source": [
        "from google.colab import drive\n",
        "drive.mount('/content/drive')"
      ],
      "metadata": {
        "colab": {
          "base_uri": "https://localhost:8080/"
        },
        "id": "NlGhBDgIG8eG",
        "outputId": "d72ba102-1e44-44ff-f544-2194dfe10ff5"
      },
      "execution_count": null,
      "outputs": [
        {
          "output_type": "stream",
          "name": "stdout",
          "text": [
            "Mounted at /content/drive\n"
          ]
        }
      ]
    },
    {
      "cell_type": "code",
      "execution_count": null,
      "metadata": {
        "id": "zjCBk1BI8DC1",
        "colab": {
          "base_uri": "https://localhost:8080/"
        },
        "outputId": "89a3c133-03d0-4553-e60d-c4fd9e759059"
      },
      "outputs": [
        {
          "output_type": "stream",
          "name": "stdout",
          "text": [
            "   instant      dteday  season  yr  mnth  holiday  weekday  workingday  \\\n",
            "0        1  2011-01-01       1   0     1        0        6           0   \n",
            "1        2  2011-01-02       1   0     1        0        0           0   \n",
            "2        3  2011-01-03       1   0     1        0        1           1   \n",
            "3        4  2011-01-04       1   0     1        0        2           1   \n",
            "4        5  2011-01-05       1   0     1        0        3           1   \n",
            "\n",
            "   weathersit      temp     atemp       hum  windspeed  casual  registered  \\\n",
            "0           2  0.344167  0.363625  0.805833   0.160446     331         654   \n",
            "1           2  0.363478  0.353739  0.696087   0.248539     131         670   \n",
            "2           1  0.196364  0.189405  0.437273   0.248309     120        1229   \n",
            "3           1  0.200000  0.212122  0.590435   0.160296     108        1454   \n",
            "4           1  0.226957  0.229270  0.436957   0.186900      82        1518   \n",
            "\n",
            "    cnt  \n",
            "0   985  \n",
            "1   801  \n",
            "2  1349  \n",
            "3  1562  \n",
            "4  1600  \n",
            "   instant      dteday  season  yr  mnth  hr  holiday  weekday  workingday  \\\n",
            "0        1  2011-01-01       1   0     1   0        0        6           0   \n",
            "1        2  2011-01-01       1   0     1   1        0        6           0   \n",
            "2        3  2011-01-01       1   0     1   2        0        6           0   \n",
            "3        4  2011-01-01       1   0     1   3        0        6           0   \n",
            "4        5  2011-01-01       1   0     1   4        0        6           0   \n",
            "\n",
            "   weathersit  temp   atemp   hum  windspeed  casual  registered  cnt  \n",
            "0           1  0.24  0.2879  0.81        0.0       3          13   16  \n",
            "1           1  0.22  0.2727  0.80        0.0       8          32   40  \n",
            "2           1  0.22  0.2727  0.80        0.0       5          27   32  \n",
            "3           1  0.24  0.2879  0.75        0.0       3          10   13  \n",
            "4           1  0.24  0.2879  0.75        0.0       0           1    1  \n"
          ]
        }
      ],
      "source": [
        "# Import library yang dibutuhkan\n",
        "import pandas as pd\n",
        "\n",
        "# Load dataset\n",
        "day_df = pd.read_csv('/content/drive/MyDrive/day.csv')\n",
        "hour_df = pd.read_csv('/content/drive/MyDrive/hour.csv')\n",
        "\n",
        "# Menampilkan 5 data pertama\n",
        "print(day_df.head())\n",
        "print(hour_df.head())"
      ]
    },
    {
      "cell_type": "markdown",
      "source": [
        "**Insight:**\n",
        "- Polanya berbeda antara data harian dan per jam → Data per jam bisa membantu analisis waktu puncak penyewaan.\n",
        "- Cuaca memengaruhi penyewaan sepeda → Penyewaan lebih tinggi saat cuaca cerah.\n",
        "- Hari kerja cenderung memiliki jumlah penyewaan lebih tinggi dibanding akhir pekan → Sepeda kemungkinan digunakan untuk mobilitas kerja."
      ],
      "metadata": {
        "id": "MMi6xGaDkbCi"
      }
    },
    {
      "cell_type": "markdown",
      "metadata": {
        "id": "FHSiqaZp8DC1"
      },
      "source": [
        "### Assessing Data"
      ]
    },
    {
      "cell_type": "code",
      "source": [
        "# Melihat informasi dasar dari dataset\n",
        "print(day_df.info())\n",
        "print(hour_df.info())\n",
        "\n",
        "# Mengecek jumlah missing values\n",
        "print(day_df.isnull().sum())\n",
        "print(hour_df.isnull().sum())\n",
        "\n",
        "# Mengecek jumlah data yang duplikat\n",
        "print(day_df.duplicated().sum())\n",
        "print(hour_df.duplicated().sum())"
      ],
      "metadata": {
        "id": "ax-3tEjc9Cj1",
        "colab": {
          "base_uri": "https://localhost:8080/"
        },
        "outputId": "53c2d137-6d01-4dcc-f210-aa2d78872561"
      },
      "execution_count": null,
      "outputs": [
        {
          "output_type": "stream",
          "name": "stdout",
          "text": [
            "<class 'pandas.core.frame.DataFrame'>\n",
            "RangeIndex: 731 entries, 0 to 730\n",
            "Data columns (total 16 columns):\n",
            " #   Column      Non-Null Count  Dtype  \n",
            "---  ------      --------------  -----  \n",
            " 0   instant     731 non-null    int64  \n",
            " 1   dteday      731 non-null    object \n",
            " 2   season      731 non-null    int64  \n",
            " 3   yr          731 non-null    int64  \n",
            " 4   mnth        731 non-null    int64  \n",
            " 5   holiday     731 non-null    int64  \n",
            " 6   weekday     731 non-null    int64  \n",
            " 7   workingday  731 non-null    int64  \n",
            " 8   weathersit  731 non-null    int64  \n",
            " 9   temp        731 non-null    float64\n",
            " 10  atemp       731 non-null    float64\n",
            " 11  hum         731 non-null    float64\n",
            " 12  windspeed   731 non-null    float64\n",
            " 13  casual      731 non-null    int64  \n",
            " 14  registered  731 non-null    int64  \n",
            " 15  cnt         731 non-null    int64  \n",
            "dtypes: float64(4), int64(11), object(1)\n",
            "memory usage: 91.5+ KB\n",
            "None\n",
            "<class 'pandas.core.frame.DataFrame'>\n",
            "RangeIndex: 17379 entries, 0 to 17378\n",
            "Data columns (total 17 columns):\n",
            " #   Column      Non-Null Count  Dtype  \n",
            "---  ------      --------------  -----  \n",
            " 0   instant     17379 non-null  int64  \n",
            " 1   dteday      17379 non-null  object \n",
            " 2   season      17379 non-null  int64  \n",
            " 3   yr          17379 non-null  int64  \n",
            " 4   mnth        17379 non-null  int64  \n",
            " 5   hr          17379 non-null  int64  \n",
            " 6   holiday     17379 non-null  int64  \n",
            " 7   weekday     17379 non-null  int64  \n",
            " 8   workingday  17379 non-null  int64  \n",
            " 9   weathersit  17379 non-null  int64  \n",
            " 10  temp        17379 non-null  float64\n",
            " 11  atemp       17379 non-null  float64\n",
            " 12  hum         17379 non-null  float64\n",
            " 13  windspeed   17379 non-null  float64\n",
            " 14  casual      17379 non-null  int64  \n",
            " 15  registered  17379 non-null  int64  \n",
            " 16  cnt         17379 non-null  int64  \n",
            "dtypes: float64(4), int64(12), object(1)\n",
            "memory usage: 2.3+ MB\n",
            "None\n",
            "instant       0\n",
            "dteday        0\n",
            "season        0\n",
            "yr            0\n",
            "mnth          0\n",
            "holiday       0\n",
            "weekday       0\n",
            "workingday    0\n",
            "weathersit    0\n",
            "temp          0\n",
            "atemp         0\n",
            "hum           0\n",
            "windspeed     0\n",
            "casual        0\n",
            "registered    0\n",
            "cnt           0\n",
            "dtype: int64\n",
            "instant       0\n",
            "dteday        0\n",
            "season        0\n",
            "yr            0\n",
            "mnth          0\n",
            "hr            0\n",
            "holiday       0\n",
            "weekday       0\n",
            "workingday    0\n",
            "weathersit    0\n",
            "temp          0\n",
            "atemp         0\n",
            "hum           0\n",
            "windspeed     0\n",
            "casual        0\n",
            "registered    0\n",
            "cnt           0\n",
            "dtype: int64\n",
            "0\n",
            "0\n"
          ]
        }
      ]
    },
    {
      "cell_type": "markdown",
      "source": [
        "**Insight:**\n",
        "- Tidak ada missing values, sehingga proses cleaning bisa fokus pada tipe data dan format.\n",
        "- Dataset memiliki jumlah kolom berbeda → Perlu strategi untuk menggabungkan data jika ingin membentuk main_data.\n",
        "- Perlu penyesuaian tipe data dteday ke datetime, kolom kategori ke category untuk mempermudah analisis."
      ],
      "metadata": {
        "id": "7dtxhAPrkhPL"
      }
    },
    {
      "cell_type": "markdown",
      "metadata": {
        "id": "EhN5R4hr8DC1"
      },
      "source": [
        "### Cleaning Data"
      ]
    },
    {
      "cell_type": "code",
      "source": [
        "import pandas as pd\n",
        "\n",
        "# Load dataset\n",
        "day_df = pd.read_csv('/content/drive/MyDrive/day.csv')\n",
        "hour_df = pd.read_csv('/content/drive/MyDrive/hour.csv')\n",
        "\n",
        "\n",
        "# 1️⃣ Konversi 'dteday' ke datetime\n",
        "day_df['dteday'] = pd.to_datetime(day_df['dteday'])\n",
        "hour_df['dteday'] = pd.to_datetime(hour_df['dteday'])\n",
        "\n",
        "# 2️⃣ Ubah kolom kategori ke tipe category\n",
        "category_cols = ['season', 'yr', 'mnth', 'holiday', 'weekday', 'workingday', 'weathersit']\n",
        "\n",
        "for col in category_cols:\n",
        "    day_df[col] = day_df[col].astype('category')\n",
        "    hour_df[col] = hour_df[col].astype('category')\n",
        "\n",
        "# 3️⃣ Periksa dan hapus data duplikat jika ada\n",
        "day_df = day_df.drop_duplicates()\n",
        "hour_df = hour_df.drop_duplicates()\n",
        "\n",
        "# 4️⃣ Pastikan data sudah bersih\n",
        "print(day_df.info())\n",
        "print(hour_df.info())\n",
        "\n",
        "# Cek apakah masih ada missing values setelah cleaning\n",
        "print(\"Missing values di day_df:\\n\", day_df.isnull().sum())\n",
        "print(\"Missing values di hour_df:\\n\", hour_df.isnull().sum())\n",
        "\n",
        "print(\"Cleaning data selesai! 🚀\")\n"
      ],
      "metadata": {
        "id": "jVnYpprE9Evz",
        "colab": {
          "base_uri": "https://localhost:8080/"
        },
        "outputId": "d73ea0cb-7a49-4e3c-f7ea-7e3e853d8b3f"
      },
      "execution_count": null,
      "outputs": [
        {
          "output_type": "stream",
          "name": "stdout",
          "text": [
            "<class 'pandas.core.frame.DataFrame'>\n",
            "RangeIndex: 731 entries, 0 to 730\n",
            "Data columns (total 16 columns):\n",
            " #   Column      Non-Null Count  Dtype         \n",
            "---  ------      --------------  -----         \n",
            " 0   instant     731 non-null    int64         \n",
            " 1   dteday      731 non-null    datetime64[ns]\n",
            " 2   season      731 non-null    category      \n",
            " 3   yr          731 non-null    category      \n",
            " 4   mnth        731 non-null    category      \n",
            " 5   holiday     731 non-null    category      \n",
            " 6   weekday     731 non-null    category      \n",
            " 7   workingday  731 non-null    category      \n",
            " 8   weathersit  731 non-null    category      \n",
            " 9   temp        731 non-null    float64       \n",
            " 10  atemp       731 non-null    float64       \n",
            " 11  hum         731 non-null    float64       \n",
            " 12  windspeed   731 non-null    float64       \n",
            " 13  casual      731 non-null    int64         \n",
            " 14  registered  731 non-null    int64         \n",
            " 15  cnt         731 non-null    int64         \n",
            "dtypes: category(7), datetime64[ns](1), float64(4), int64(4)\n",
            "memory usage: 58.0 KB\n",
            "None\n",
            "<class 'pandas.core.frame.DataFrame'>\n",
            "RangeIndex: 17379 entries, 0 to 17378\n",
            "Data columns (total 17 columns):\n",
            " #   Column      Non-Null Count  Dtype         \n",
            "---  ------      --------------  -----         \n",
            " 0   instant     17379 non-null  int64         \n",
            " 1   dteday      17379 non-null  datetime64[ns]\n",
            " 2   season      17379 non-null  category      \n",
            " 3   yr          17379 non-null  category      \n",
            " 4   mnth        17379 non-null  category      \n",
            " 5   hr          17379 non-null  int64         \n",
            " 6   holiday     17379 non-null  category      \n",
            " 7   weekday     17379 non-null  category      \n",
            " 8   workingday  17379 non-null  category      \n",
            " 9   weathersit  17379 non-null  category      \n",
            " 10  temp        17379 non-null  float64       \n",
            " 11  atemp       17379 non-null  float64       \n",
            " 12  hum         17379 non-null  float64       \n",
            " 13  windspeed   17379 non-null  float64       \n",
            " 14  casual      17379 non-null  int64         \n",
            " 15  registered  17379 non-null  int64         \n",
            " 16  cnt         17379 non-null  int64         \n",
            "dtypes: category(7), datetime64[ns](1), float64(4), int64(5)\n",
            "memory usage: 1.4 MB\n",
            "None\n",
            "Missing values di day_df:\n",
            " instant       0\n",
            "dteday        0\n",
            "season        0\n",
            "yr            0\n",
            "mnth          0\n",
            "holiday       0\n",
            "weekday       0\n",
            "workingday    0\n",
            "weathersit    0\n",
            "temp          0\n",
            "atemp         0\n",
            "hum           0\n",
            "windspeed     0\n",
            "casual        0\n",
            "registered    0\n",
            "cnt           0\n",
            "dtype: int64\n",
            "Missing values di hour_df:\n",
            " instant       0\n",
            "dteday        0\n",
            "season        0\n",
            "yr            0\n",
            "mnth          0\n",
            "hr            0\n",
            "holiday       0\n",
            "weekday       0\n",
            "workingday    0\n",
            "weathersit    0\n",
            "temp          0\n",
            "atemp         0\n",
            "hum           0\n",
            "windspeed     0\n",
            "casual        0\n",
            "registered    0\n",
            "cnt           0\n",
            "dtype: int64\n",
            "Cleaning data selesai! 🚀\n"
          ]
        }
      ]
    },
    {
      "cell_type": "markdown",
      "source": [
        "**Insight:**\n",
        "- Tidak Ada Missing Values\n",
        "- Efisiensi Memori Meningkat dengan Tipe Data yang Sesuai\n",
        "- Data Konsisten dan Tidak Ada Duplikasi"
      ],
      "metadata": {
        "id": "Q_5ejIqckiSP"
      }
    },
    {
      "cell_type": "markdown",
      "source": [
        "## Membuat main_data.csv"
      ],
      "metadata": {
        "id": "jWHbN1_MQXCt"
      }
    },
    {
      "cell_type": "code",
      "source": [
        "import pandas as pd\n",
        "\n",
        "# Load datasets\n",
        "day_df = pd.read_csv(\"/content/drive/MyDrive/day.csv\", parse_dates=[\"dteday\"])\n",
        "hour_df = pd.read_csv(\"/content/drive/MyDrive/hour.csv\", parse_dates=[\"dteday\"])\n",
        "\n",
        "# Agregasi hour_df untuk mendapatkan rata-rata per hari\n",
        "hour_agg = hour_df.groupby(\"dteday\").agg({\n",
        "    \"temp\": \"mean\",\n",
        "    \"hum\": \"mean\",\n",
        "    \"windspeed\": \"mean\"\n",
        "}).reset_index()\n",
        "\n",
        "# Ubah nama kolom agar jelas\n",
        "hour_agg.rename(columns={\"temp\": \"avg_temp\", \"hum\": \"avg_hum\", \"windspeed\": \"avg_windspeed\"}, inplace=True)\n",
        "\n",
        "# Gabungkan dengan day_df berdasarkan dteday\n",
        "main_data = pd.merge(day_df, hour_agg, on=\"dteday\", how=\"left\")\n",
        "\n",
        "# Simpan sebagai CSV\n",
        "main_data.to_csv(\"main_data.csv\", index=False)\n",
        "\n",
        "print(\"File main_data.csv telah berhasil dibuat!\")\n"
      ],
      "metadata": {
        "colab": {
          "base_uri": "https://localhost:8080/"
        },
        "id": "oobGm_b4Pq7R",
        "outputId": "0d20db1b-cca1-4932-859f-21f1d025a596"
      },
      "execution_count": null,
      "outputs": [
        {
          "output_type": "stream",
          "name": "stdout",
          "text": [
            "File main_data.csv telah berhasil dibuat!\n"
          ]
        }
      ]
    },
    {
      "cell_type": "code",
      "source": [
        "from google.colab import files\n",
        "\n",
        "# Simpan file main_data.csv\n",
        "main_data.to_csv(\"main_data.csv\", index=False)\n",
        "\n",
        "# Download file\n",
        "files.download(\"main_data.csv\")"
      ],
      "metadata": {
        "colab": {
          "base_uri": "https://localhost:8080/",
          "height": 17
        },
        "id": "oDyvjkCPRkHQ",
        "outputId": "368dc48f-0e8c-4726-fdaa-85fa4e2ee857"
      },
      "execution_count": null,
      "outputs": [
        {
          "output_type": "display_data",
          "data": {
            "text/plain": [
              "<IPython.core.display.Javascript object>"
            ],
            "application/javascript": [
              "\n",
              "    async function download(id, filename, size) {\n",
              "      if (!google.colab.kernel.accessAllowed) {\n",
              "        return;\n",
              "      }\n",
              "      const div = document.createElement('div');\n",
              "      const label = document.createElement('label');\n",
              "      label.textContent = `Downloading \"${filename}\": `;\n",
              "      div.appendChild(label);\n",
              "      const progress = document.createElement('progress');\n",
              "      progress.max = size;\n",
              "      div.appendChild(progress);\n",
              "      document.body.appendChild(div);\n",
              "\n",
              "      const buffers = [];\n",
              "      let downloaded = 0;\n",
              "\n",
              "      const channel = await google.colab.kernel.comms.open(id);\n",
              "      // Send a message to notify the kernel that we're ready.\n",
              "      channel.send({})\n",
              "\n",
              "      for await (const message of channel.messages) {\n",
              "        // Send a message to notify the kernel that we're ready.\n",
              "        channel.send({})\n",
              "        if (message.buffers) {\n",
              "          for (const buffer of message.buffers) {\n",
              "            buffers.push(buffer);\n",
              "            downloaded += buffer.byteLength;\n",
              "            progress.value = downloaded;\n",
              "          }\n",
              "        }\n",
              "      }\n",
              "      const blob = new Blob(buffers, {type: 'application/binary'});\n",
              "      const a = document.createElement('a');\n",
              "      a.href = window.URL.createObjectURL(blob);\n",
              "      a.download = filename;\n",
              "      div.appendChild(a);\n",
              "      a.click();\n",
              "      div.remove();\n",
              "    }\n",
              "  "
            ]
          },
          "metadata": {}
        },
        {
          "output_type": "display_data",
          "data": {
            "text/plain": [
              "<IPython.core.display.Javascript object>"
            ],
            "application/javascript": [
              "download(\"download_60fadaf3-5aac-48a5-96d0-d71b6a4d2935\", \"main_data.csv\", 93498)"
            ]
          },
          "metadata": {}
        }
      ]
    },
    {
      "cell_type": "markdown",
      "metadata": {
        "id": "gp-Y6wU38DC1"
      },
      "source": [
        "## Exploratory Data Analysis (EDA)"
      ]
    },
    {
      "cell_type": "markdown",
      "metadata": {
        "id": "MW7WF2kr8DC1"
      },
      "source": [
        "### Explore ..."
      ]
    },
    {
      "cell_type": "code",
      "execution_count": null,
      "metadata": {
        "id": "e9CQCZjk8DC2",
        "colab": {
          "base_uri": "https://localhost:8080/"
        },
        "outputId": "5c878a7a-f80b-41a8-99df-bd947109e56b"
      },
      "outputs": [
        {
          "output_type": "stream",
          "name": "stdout",
          "text": [
            "🔹 Ringkasan Statistik Data:\n",
            "\n",
            "          instant      season          yr        mnth     holiday     weekday  \\\n",
            "count  731.000000  731.000000  731.000000  731.000000  731.000000  731.000000   \n",
            "mean   366.000000    2.496580    0.500684    6.519836    0.028728    2.997264   \n",
            "std    211.165812    1.110807    0.500342    3.451913    0.167155    2.004787   \n",
            "min      1.000000    1.000000    0.000000    1.000000    0.000000    0.000000   \n",
            "25%    183.500000    2.000000    0.000000    4.000000    0.000000    1.000000   \n",
            "50%    366.000000    3.000000    1.000000    7.000000    0.000000    3.000000   \n",
            "75%    548.500000    3.000000    1.000000   10.000000    0.000000    5.000000   \n",
            "max    731.000000    4.000000    1.000000   12.000000    1.000000    6.000000   \n",
            "\n",
            "       workingday  weathersit        temp       atemp         hum   windspeed  \\\n",
            "count  731.000000  731.000000  731.000000  731.000000  731.000000  731.000000   \n",
            "mean     0.683995    1.395349    0.495385    0.474354    0.627894    0.190486   \n",
            "std      0.465233    0.544894    0.183051    0.162961    0.142429    0.077498   \n",
            "min      0.000000    1.000000    0.059130    0.079070    0.000000    0.022392   \n",
            "25%      0.000000    1.000000    0.337083    0.337842    0.520000    0.134950   \n",
            "50%      1.000000    1.000000    0.498333    0.486733    0.626667    0.180975   \n",
            "75%      1.000000    2.000000    0.655417    0.608602    0.730209    0.233214   \n",
            "max      1.000000    3.000000    0.861667    0.840896    0.972500    0.507463   \n",
            "\n",
            "            casual   registered          cnt    avg_temp     avg_hum  \\\n",
            "count   731.000000   731.000000   731.000000  731.000000  731.000000   \n",
            "mean    848.176471  3656.172367  4504.348837    0.495385    0.627894   \n",
            "std     686.622488  1560.256377  1937.211452    0.183051    0.142429   \n",
            "min       2.000000    20.000000    22.000000    0.059130    0.000000   \n",
            "25%     315.500000  2497.000000  3152.000000    0.337083    0.520000   \n",
            "50%     713.000000  3662.000000  4548.000000    0.498333    0.626667   \n",
            "75%    1096.000000  4776.500000  5956.000000    0.655417    0.730208   \n",
            "max    3410.000000  6946.000000  8714.000000    0.861667    0.972500   \n",
            "\n",
            "       avg_windspeed  \n",
            "count     731.000000  \n",
            "mean        0.190486  \n",
            "std         0.077498  \n",
            "min         0.022392  \n",
            "25%         0.134950  \n",
            "50%         0.180975  \n",
            "75%         0.233215  \n",
            "max         0.507463  \n",
            "\n",
            "🔹 Jumlah Penyewaan Sepeda per Bulan:\n",
            "\n",
            "    mnth     cnt\n",
            "0      1  134933\n",
            "1      2  151352\n",
            "2      3  228920\n",
            "3      4  269094\n",
            "4      5  331686\n",
            "5      6  346342\n",
            "6      7  344948\n",
            "7      8  351194\n",
            "8      9  345991\n",
            "9     10  322352\n",
            "10    11  254831\n",
            "11    12  211036\n",
            "\n",
            "🔹 Pengaruh Cuaca terhadap Penyewaan Sepeda:\n",
            "\n",
            "   weathersit          cnt\n",
            "0           1  4876.786177\n",
            "1           2  4035.862348\n",
            "2           3  1803.285714\n",
            "\n",
            "🔹 Perbedaan Penyewaan Sepeda antara Hari Kerja dan Akhir Pekan:\n",
            "\n",
            "   workingday          cnt\n",
            "0           0  4330.168831\n",
            "1           1  4584.820000\n"
          ]
        }
      ],
      "source": [
        "import pandas as pd\n",
        "\n",
        "# Load data\n",
        "main_data = pd.read_csv(\"main_data.csv\")\n",
        "\n",
        "# Tentukan pertanyaan bisnis yang ingin dijawab\n",
        "business_questions = [\n",
        "    \"Bagaimana tren jumlah penyewaan sepeda per bulan?\",\n",
        "    \"Apakah ada hubungan antara cuaca dengan jumlah penyewaan sepeda?\",\n",
        "    \"Bagaimana perbedaan penyewaan sepeda antara hari kerja dan akhir pekan?\"\n",
        "]\n",
        "\n",
        "# 1️⃣ Menampilkan ringkasan statistik data\n",
        "print(\"🔹 Ringkasan Statistik Data:\\n\")\n",
        "print(main_data.describe())\n",
        "\n",
        "# 2️⃣ Melihat jumlah penyewaan sepeda per bulan\n",
        "print(\"\\n🔹 Jumlah Penyewaan Sepeda per Bulan:\\n\")\n",
        "print(main_data.groupby(\"mnth\")[\"cnt\"].sum().reset_index())\n",
        "\n",
        "# 3️⃣ Melihat hubungan antara cuaca dan jumlah penyewaan\n",
        "print(\"\\n🔹 Pengaruh Cuaca terhadap Penyewaan Sepeda:\\n\")\n",
        "print(main_data.groupby(\"weathersit\")[\"cnt\"].mean().reset_index())\n",
        "\n",
        "# 4️⃣ Perbedaan penyewaan antara hari kerja dan akhir pekan\n",
        "print(\"\\n🔹 Perbedaan Penyewaan Sepeda antara Hari Kerja dan Akhir Pekan:\\n\")\n",
        "print(main_data.groupby(\"workingday\")[\"cnt\"].mean().reset_index())\n"
      ]
    },
    {
      "cell_type": "markdown",
      "source": [
        "**Insight:**\n",
        "- Penyewaan sepeda meningkat selama musim panas dan menurun di musim dingin.\n",
        "- Cuaca buruk berdampak negatif pada jumlah penyewaan.\n",
        "- Penyewaan di hari kerja sedikit lebih tinggi dibandingkan akhir pekan, menunjukkan peran sepeda"
      ],
      "metadata": {
        "id": "th_Lzl2Fkj9O"
      }
    },
    {
      "cell_type": "markdown",
      "metadata": {
        "id": "zsyZjqak8DC2"
      },
      "source": [
        "## Visualization & Explanatory Analysis"
      ]
    },
    {
      "cell_type": "markdown",
      "metadata": {
        "id": "HZxOiQ6n8DC2"
      },
      "source": [
        "### Pertanyaan 1:\n",
        "- Bagaimana Tren Penyewaan Sepeda per Bulan?"
      ]
    },
    {
      "cell_type": "code",
      "execution_count": null,
      "metadata": {
        "id": "1swJUdAD8DC2",
        "colab": {
          "base_uri": "https://localhost:8080/",
          "height": 507
        },
        "outputId": "9514d9bd-6607-411a-90c4-ae3723b56f3f"
      },
      "outputs": [
        {
          "output_type": "display_data",
          "data": {
            "text/plain": [
              "<Figure size 1000x500 with 1 Axes>"
            ],
            "image/png": "[encoded data removed]"
          },
          "metadata": {}
        }
      ],
      "source": [
        "import matplotlib.pyplot as plt\n",
        "import seaborn as sns\n",
        "\n",
        "# Agregasi jumlah penyewaan sepeda per bulan\n",
        "monthly_rentals = day_df.groupby(\"mnth\")[\"cnt\"].sum().reset_index()\n",
        "\n",
        "# Plot\n",
        "plt.figure(figsize=(10,5))\n",
        "sns.lineplot(data=monthly_rentals, x=\"mnth\", y=\"cnt\", marker=\"o\", color=\"b\")\n",
        "plt.xticks(ticks=range(1,13), labels=['Jan', 'Feb', 'Mar', 'Apr', 'May', 'Jun', 'Jul', 'Aug', 'Sep', 'Oct', 'Nov', 'Dec'])\n",
        "plt.xlabel(\"Bulan\")\n",
        "plt.ylabel(\"Total Penyewaan Sepeda\")\n",
        "plt.title(\"Tren Penyewaan Sepeda per Bulan\")\n",
        "plt.grid()\n",
        "plt.show()\n"
      ]
    },
    {
      "cell_type": "markdown",
      "source": [
        "**Insight**\n",
        "- Jumlah penyewaan sepeda meningkat dari awal tahun ke pertengahan tahun dan mencapai puncaknya di bulan-bulan musim panas (Mei-September).\n",
        "- Penyewaan sepeda cenderung menurun setelah bulan Oktober, kemungkinan karena faktor cuaca yang lebih dingin atau hujan yang lebih sering."
      ],
      "metadata": {
        "id": "sIkp-KmbmOkf"
      }
    },
    {
      "cell_type": "markdown",
      "metadata": {
        "id": "DgHI7CiU8DC2"
      },
      "source": [
        "### Pertanyaan 2:\n",
        "- Bagaimana Pengaruh Cuaca terhadap Penyewaan Sepeda?\n",
        "\n"
      ]
    },
    {
      "cell_type": "code",
      "execution_count": null,
      "metadata": {
        "id": "Go0lCsvO8DC2",
        "colab": {
          "base_uri": "https://localhost:8080/",
          "height": 487
        },
        "outputId": "4b051379-bc1d-4ea6-885a-2e5ea0b3aabf"
      },
      "outputs": [
        {
          "output_type": "display_data",
          "data": {
            "text/plain": [
              "<Figure size 800x500 with 1 Axes>"
            ],
            "image/png": "[encoded data removed]"
          },
          "metadata": {}
        }
      ],
      "source": [
        "# Agregasi rata-rata jumlah penyewaan per kondisi cuaca\n",
        "weather_rentals = day_df.groupby(\"weathersit\")[\"cnt\"].mean().reset_index()\n",
        "\n",
        "# Mapping label kondisi cuaca\n",
        "weather_labels = {\n",
        "    1: \"Cerah\",\n",
        "    2: \"Mendung\",\n",
        "    3: \"Hujan/Salju\"\n",
        "}\n",
        "weather_rentals[\"weathersit\"] = weather_rentals[\"weathersit\"].map(weather_labels)\n",
        "\n",
        "plt.figure(figsize=(8, 5))\n",
        "sns.barplot(x=\"weathersit\", y=\"cnt\", hue=\"weathersit\", data=weather_rentals, legend=False, palette=\"Blues_r\")\n",
        "plt.xlabel(\"Kondisi Cuaca\")\n",
        "plt.ylabel(\"Rata-rata Penyewaan Sepeda\")\n",
        "plt.title(\"Pengaruh Cuaca terhadap Penyewaan Sepeda\")\n",
        "plt.show()\n"
      ]
    },
    {
      "cell_type": "markdown",
      "source": [
        "**Insight**\n",
        "- Cuaca cerah (weathersit = 1) memiliki jumlah penyewaan tertinggi dengan rata-rata 4,876 sepeda/hari.\n",
        "- Cuaca mendung atau sedikit hujan (weathersit = 2) mengurangi jumlah penyewaan hingga 4,035 sepeda/hari.\n",
        "- Saat cuaca buruk (weathersit = 3, hujan deras atau badai), jumlah penyewaan turun drastis ke 1,803 sepeda/hari."
      ],
      "metadata": {
        "id": "AO3jmfWPmdz9"
      }
    },
    {
      "cell_type": "markdown",
      "source": [
        "### Pertanyaan 3:\n",
        "- Bagaimana Perbedaan Penyewaan Sepeda antara Hari Kerja dan Akhir Pekan?"
      ],
      "metadata": {
        "id": "_ElHfkETlTM4"
      }
    },
    {
      "cell_type": "code",
      "source": [
        "# Agregasi rata-rata penyewaan berdasarkan hari kerja vs akhir pekan\n",
        "workday_rentals = day_df.groupby(\"workingday\")[\"cnt\"].mean().reset_index()\n",
        "workday_rentals[\"workingday\"] = workday_rentals[\"workingday\"].map({0: \"Akhir Pekan\", 1: \"Hari Kerja\"})\n",
        "\n",
        "# Plot dengan perbaikan pada penggunaan `palette`\n",
        "plt.figure(figsize=(6, 5))\n",
        "sns.barplot(x=\"workingday\", y=\"cnt\", data=workday_rentals, hue=\"workingday\", palette=\"coolwarm\", legend=False)\n",
        "plt.xlabel(\"Kategori Hari\")\n",
        "plt.ylabel(\"Rata-rata Penyewaan Sepeda\")\n",
        "plt.title(\"Perbandingan Penyewaan Sepeda: Hari Kerja vs Akhir Pekan\")\n",
        "plt.show()\n"
      ],
      "metadata": {
        "colab": {
          "base_uri": "https://localhost:8080/",
          "height": 487
        },
        "id": "BMiElfLplZNY",
        "outputId": "94862ff7-c5ad-44bc-e0a0-8b6b764d2d8b"
      },
      "execution_count": null,
      "outputs": [
        {
          "output_type": "display_data",
          "data": {
            "text/plain": [
              "<Figure size 600x500 with 1 Axes>"
            ],
            "image/png": "[encoded data removed]"
          },
          "metadata": {}
        }
      ]
    },
    {
      "cell_type": "markdown",
      "source": [
        "**Insight**\n",
        "- Hari kerja: Rata-rata 4,584 sepeda/hari digunakan.\n",
        "Akhir pekan: Rata-rata sedikit lebih rendah, sekitar 4,330 sepeda/hari.\n",
        "- Walaupun ada perbedaan, jumlahnya tidak terlalu signifikan, yang berarti sepeda tetap populer baik di hari kerja maupun akhir pekan."
      ],
      "metadata": {
        "id": "M9Bw71CLml-q"
      }
    },
    {
      "cell_type": "markdown",
      "source": [
        "## Analisis Lanjutan (Opsional)"
      ],
      "metadata": {
        "id": "9y4VUsmcYNZ5"
      }
    },
    {
      "cell_type": "code",
      "source": [],
      "metadata": {
        "id": "iWhnzsJGYUCO"
      },
      "execution_count": null,
      "outputs": []
    },
    {
      "cell_type": "markdown",
      "metadata": {
        "id": "_WeHlCeX8DC2"
      },
      "source": [
        "## Conclusion"
      ]
    },
    {
      "cell_type": "markdown",
      "metadata": {
        "id": "ZTcyR48Y8DC2"
      },
      "source": [
        "- Conclution pertanyaan 1 : Tren penyewaan sepeda menunjukkan pola musiman, di mana penyewaan lebih tinggi di musim panas dan menurun di musim dingin.\n",
        "\n",
        "- Conclution pertanyaan 2 : Kondisi cuaca sangat memengaruhi penyewaan sepeda. Penyewaan tertinggi terjadi saat cuaca cerah dan menurun secara signifikan saat hujan atau badai.\n",
        "\n",
        "- Conclution pertanyaan 3 : Penyewaan sepeda digunakan secara konsisten sepanjang minggu, baik untuk keperluan bekerja maupun rekreasi. Hal ini menunjukkan bahwa penyewaan sepeda bukan hanya untuk transportasi ke kantor, tetapi juga aktivitas santai di akhir pekan."
      ]
    }
  ],
  "metadata": {
    "kernelspec": {
      "display_name": "Python 3",
      "language": "python",
      "name": "python3"
    },
    "language_info": {
      "name": "python",
      "version": "3.8.0 (tags/v3.8.0:fa919fd, Oct 14 2019, 19:21:23) [MSC v.1916 32 bit (Intel)]"
    },
    "orig_nbformat": 4,
    "vscode": {
      "interpreter": {
        "hash": "972b3bf27e332e87b5379f2791f6ef9dfc79c71018c370b0d7423235e20fe4d7"
      }
    },
    "colab": {
      "provenance": [],
      "toc_visible": true
    }
  },
  "nbformat": 4,
  "nbformat_minor": 0
}